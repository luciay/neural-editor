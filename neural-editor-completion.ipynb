{
 "cells": [
  {
   "cell_type": "code",
   "execution_count": 15,
   "metadata": {},
   "outputs": [
    {
     "name": "stdout",
     "output_type": "stream",
     "text": [
      "No checkpoint to reload. Initializing fresh.\n"
     ]
    },
    {
     "data": {
      "application/vnd.jupyter.widget-view+json": {
       "model_id": "9b35d23500344a22aa872f08fd7126f8"
      }
     },
     "metadata": {},
     "output_type": "display_data"
    },
    {
     "name": "stdout",
     "output_type": "stream",
     "text": [
      "\n",
      "[localhost] local: wc -l /home/ly571/neural-editor-data/midi_split/mozart/train.txt\n"
     ]
    },
    {
     "data": {
      "application/vnd.jupyter.widget-view+json": {
       "model_id": "a5d4a056cd384c9f9440cb544c323e0e"
      }
     },
     "metadata": {},
     "output_type": "display_data"
    },
    {
     "name": "stdout",
     "output_type": "stream",
     "text": [
      "\n",
      "[localhost] local: wc -l /home/ly571/neural-editor-data/midi_split/mozart/valid.txt\n"
     ]
    },
    {
     "data": {
      "application/vnd.jupyter.widget-view+json": {
       "model_id": "01c032a4a6d34a6f8bdf1858210fe5f7"
      }
     },
     "metadata": {},
     "output_type": "display_data"
    },
    {
     "name": "stdout",
     "output_type": "stream",
     "text": [
      "\n",
      "[localhost] local: wc -l /home/ly571/neural-editor-data/midi_split/mozart/test.txt\n"
     ]
    },
    {
     "data": {
      "application/vnd.jupyter.widget-view+json": {
       "model_id": "fb6e34408a324c0bace6763861b49d19"
      }
     },
     "metadata": {},
     "output_type": "display_data"
    },
    {
     "name": "stderr",
     "output_type": "stream",
     "text": [
      "INFO:root:Reloaded TrainingRun #0\n"
     ]
    },
    {
     "name": "stdout",
     "output_type": "stream",
     "text": [
      "\n"
     ]
    }
   ],
   "source": [
    "import argparse\n",
    "from gtd.io import save_stdout\n",
    "from gtd.log import set_log_level\n",
    "from gtd.utils import Config\n",
    "from textmorph.edit_model.training_run import EditTrainingRuns\n",
    "\n",
    "from textmorph.edit_model.editor import EditExample\n",
    "set_log_level('DEBUG')\n",
    "\n",
    "from textmorph import data\n",
    "\n",
    "# create experiment\n",
    "experiments = EditTrainingRuns(check_commit=False)\n",
    "\n",
    "# set checkpoints from training run\n",
    "EDIT_RUN=0\n",
    "\n",
    "# create an experiment from saved checkpoint\n",
    "exp = experiments.get(EDIT_RUN)"
   ]
  },
  {
   "cell_type": "code",
   "execution_count": 16,
   "metadata": {},
   "outputs": [
    {
     "data": {
      "text/plain": [
       "'/home/ly571/neural-editor-data/edit_run'"
      ]
     },
     "execution_count": 16,
     "metadata": {},
     "output_type": "execute_result"
    }
   ],
   "source": [
    "data.workspace.edit_run"
   ]
  },
  {
   "cell_type": "code",
   "execution_count": 20,
   "metadata": {},
   "outputs": [
    {
     "name": "stdout",
     "output_type": "stream",
     "text": [
      "Enter a source sentence:\n",
      "B4 G4 A4 F#4 C5 A4 B4 G4 A4 F#4\n",
      "Enter whitelist (OK to leave empty):\n",
      "\n",
      "Enter blacklist (OK to leave empty):\n",
      "\n",
      "Enter target sentence (OK to leave empty):\n",
      "\n",
      "SOURCE: B4 G4 A4 F # 4 C5 A4 B4 G4 A4 F # 4\n"
     ]
    }
   ],
   "source": [
    "editor = exp.editor\n",
    "\n",
    "ex = EditExample.from_prompt()\n",
    "print(ex)"
   ]
  },
  {
   "cell_type": "code",
   "execution_count": 22,
   "metadata": {},
   "outputs": [
    {
     "name": "stdout",
     "output_type": "stream",
     "text": [
      "[SOURCE: B4 G4 A4 F # 4 C5 A4 B4 G4 A4 F # 4\n",
      "(0.00) f#1 f#1 f#1 f#1 f#1 f#1 f#1 f#1 f#1 f#1 f#1 f#1 f#1 f#1 f#1 f#1 f#1 f#1 f#1 f#1 f#1 f#1 f#1 f#1 f#1 f#1 f#1 f#1 f#1 f#1 f#1 f#1 f#1 f#1 f#1\n",
      "(0.00) f#1 f#1 f#1 f#1 f#1 f#1 f#1 f#1 f#1 f#1 f#1 f#1 f#1 f#1 f#1 f#1 f#1 f#1 f#1 f#1 f#1 f#1 f#1 f#1 f#1 f#1 f#1 f#1 f#1 f#1 f#1 f#1 f#1 f#1 e1\n",
      "(0.00) a4 f#1 f#1 f#1 f#1 f#1 f#1 f#1 f#1 f#1 f#1 f#1 f#1 f#1 f#1 f#1 f#1 f#1 f#1 f#1 f#1 f#1 f#1 f#1 f#1 f#1 f#1 f#1 f#1 f#1 f#1 f#1 f#1 f#1 f#1\n",
      "(0.00) b4 f#1 f#1 f#1 f#1 f#1 f#1 f#1 f#1 f#1 f#1 f#1 f#1 f#1 f#1 f#1 f#1 f#1 f#1 f#1 f#1 f#1 f#1 f#1 f#1 f#1 f#1 f#1 f#1 f#1 f#1 f#1 f#1 f#1 f#1\n",
      "(0.00) a4 f#1 f#1 f#1 f#1 f#1 f#1 f#1 f#1 f#1 f#1 f#1 f#1 f#1 f#1 f#1 f#1 f#1 f#1 f#1 f#1 f#1 f#1 f#1 f#1 f#1 f#1 f#1 f#1 f#1 f#1 f#1 f#1 f#1 e1]\n"
     ]
    }
   ],
   "source": [
    "output_words_batch, edit_traces = editor.edit([ex], beam_size=8)\n",
    "print(edit_traces)"
   ]
  }
 ],
 "metadata": {
  "kernelspec": {
   "display_name": "Python 2",
   "language": "python",
   "name": "python2"
  },
  "language_info": {
   "codemirror_mode": {
    "name": "ipython",
    "version": 2
   },
   "file_extension": ".py",
   "mimetype": "text/x-python",
   "name": "python",
   "nbconvert_exporter": "python",
   "pygments_lexer": "ipython2",
   "version": "2.7.11"
  }
 },
 "nbformat": 4,
 "nbformat_minor": 2
}
