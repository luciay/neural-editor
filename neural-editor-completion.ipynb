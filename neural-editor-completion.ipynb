{
 "cells": [
  {
   "cell_type": "code",
   "execution_count": 1,
   "metadata": {
    "collapsed": true
   },
   "outputs": [],
   "source": [
    "import argparse\n",
    "import random\n",
    "from gtd.io import save_stdout\n",
    "from gtd.log import set_log_level\n",
    "from gtd.utils import Config\n",
    "from textmorph.edit_model.training_run import EditTrainingRuns\n",
    "\n",
    "from textmorph.edit_model.editor import EditExample\n",
    "set_log_level('DEBUG')\n",
    "\n",
    "from textmorph import data\n",
    "\n",
    "# create experiment\n",
    "experiments = EditTrainingRuns(check_commit=False)"
   ]
  },
  {
   "cell_type": "code",
   "execution_count": 2,
   "metadata": {
    "collapsed": true
   },
   "outputs": [],
   "source": [
    "# takes in data from original format and break into sequence length 20\n",
    "def parse(path, c, TYPE, t):\n",
    "    NOTES_PER_LINE=20\n",
    "    clean = []\n",
    "    with open(path) as f:\n",
    "        for line in f:\n",
    "            for item in line.lstrip().rsplit():\n",
    "                clean.append(item)\n",
    "\n",
    "    with open(key+'_'+TYPE+'_'+t+'_parsed.txt', 'w') as f:\n",
    "        count = 0\n",
    "        for item in clean:\n",
    "            if count < NOTES_PER_LINE-1:\n",
    "                f.write(item+' ')\n",
    "                count+=1\n",
    "            else:\n",
    "                f.write(item+'\\n')\n",
    "                count = 0\n",
    "                \n",
    "    return key+'_'+TYPE+'_'+t+'_parsed.txt'"
   ]
  },
  {
   "cell_type": "code",
   "execution_count": 13,
   "metadata": {},
   "outputs": [
    {
     "name": "stdout",
     "output_type": "stream",
     "text": [
      "TYPE  mono\n",
      "Reloaded checkpoint #100000\n"
     ]
    },
    {
     "data": {
      "application/vnd.jupyter.widget-view+json": {
       "model_id": "b13386def0324946afaef0d6ae3a131a"
      }
     },
     "metadata": {},
     "output_type": "display_data"
    },
    {
     "name": "stdout",
     "output_type": "stream",
     "text": [
      "\n",
      "[localhost] local: wc -l /scratch/ly571/neural-editor-data/midi_split/mono/beethoven/train.txt\n"
     ]
    },
    {
     "data": {
      "application/vnd.jupyter.widget-view+json": {
       "model_id": "ca3263117e8a4a7fa9f6736ffdbfee2c"
      }
     },
     "metadata": {},
     "output_type": "display_data"
    },
    {
     "name": "stdout",
     "output_type": "stream",
     "text": [
      "\n",
      "[localhost] local: wc -l /scratch/ly571/neural-editor-data/midi_split/mono/beethoven/valid.txt\n"
     ]
    },
    {
     "data": {
      "application/vnd.jupyter.widget-view+json": {
       "model_id": "4fae53d718c44584be2c2f576ad4d81d"
      }
     },
     "metadata": {},
     "output_type": "display_data"
    },
    {
     "name": "stdout",
     "output_type": "stream",
     "text": [
      "\n",
      "[localhost] local: wc -l /scratch/ly571/neural-editor-data/midi_split/mono/beethoven/test.txt\n"
     ]
    },
    {
     "data": {
      "application/vnd.jupyter.widget-view+json": {
       "model_id": "94c171b9594f4e06b4f9b9ba96cc45e2"
      }
     },
     "metadata": {},
     "output_type": "display_data"
    },
    {
     "name": "stderr",
     "output_type": "stream",
     "text": [
      "INFO:root:Reloaded TrainingRun #62\n"
     ]
    },
    {
     "name": "stdout",
     "output_type": "stream",
     "text": [
      "\n",
      "Processing  beethoven ...\n",
      "\tProcessing  holdout\n",
      "\tProcessing  split\n",
      "Reloaded checkpoint #100000\n"
     ]
    },
    {
     "data": {
      "application/vnd.jupyter.widget-view+json": {
       "model_id": "50dcfb92f0e448e18aa03858428b463d"
      }
     },
     "metadata": {},
     "output_type": "display_data"
    },
    {
     "name": "stdout",
     "output_type": "stream",
     "text": [
      "\n",
      "[localhost] local: wc -l /scratch/ly571/neural-editor-data/midi_split/mono/handel/train.txt\n"
     ]
    },
    {
     "data": {
      "application/vnd.jupyter.widget-view+json": {
       "model_id": "7b8709f268b14956a3bff4a1a2ee05b5"
      }
     },
     "metadata": {},
     "output_type": "display_data"
    },
    {
     "name": "stdout",
     "output_type": "stream",
     "text": [
      "\n",
      "[localhost] local: wc -l /scratch/ly571/neural-editor-data/midi_split/mono/handel/valid.txt\n"
     ]
    },
    {
     "data": {
      "application/vnd.jupyter.widget-view+json": {
       "model_id": "fe239fbc69ff4d81826b76b9038f7c52"
      }
     },
     "metadata": {},
     "output_type": "display_data"
    },
    {
     "name": "stdout",
     "output_type": "stream",
     "text": [
      "\n",
      "[localhost] local: wc -l /scratch/ly571/neural-editor-data/midi_split/mono/handel/test.txt\n"
     ]
    },
    {
     "data": {
      "application/vnd.jupyter.widget-view+json": {
       "model_id": "3dae795810ae4804b046ef757d2e22d7"
      }
     },
     "metadata": {},
     "output_type": "display_data"
    },
    {
     "name": "stderr",
     "output_type": "stream",
     "text": [
      "INFO:root:Reloaded TrainingRun #64\n"
     ]
    },
    {
     "name": "stdout",
     "output_type": "stream",
     "text": [
      "\n",
      "Processing  handel ...\n",
      "\tProcessing  holdout\n",
      "\tProcessing  split\n",
      "Reloaded checkpoint #100000\n"
     ]
    },
    {
     "data": {
      "application/vnd.jupyter.widget-view+json": {
       "model_id": "d7245d39b6514cfc963af997188ae053"
      }
     },
     "metadata": {},
     "output_type": "display_data"
    },
    {
     "name": "stdout",
     "output_type": "stream",
     "text": [
      "\n",
      "[localhost] local: wc -l /scratch/ly571/neural-editor-data/midi_split/mono/mozart/train.txt\n"
     ]
    },
    {
     "data": {
      "application/vnd.jupyter.widget-view+json": {
       "model_id": "8550b444296540649ec1ec108c3d8899"
      }
     },
     "metadata": {},
     "output_type": "display_data"
    },
    {
     "name": "stdout",
     "output_type": "stream",
     "text": [
      "\n",
      "[localhost] local: wc -l /scratch/ly571/neural-editor-data/midi_split/mono/mozart/valid.txt\n"
     ]
    },
    {
     "data": {
      "application/vnd.jupyter.widget-view+json": {
       "model_id": "b9abc3ea84c245e9b142b432d4324d5b"
      }
     },
     "metadata": {},
     "output_type": "display_data"
    },
    {
     "name": "stdout",
     "output_type": "stream",
     "text": [
      "\n",
      "[localhost] local: wc -l /scratch/ly571/neural-editor-data/midi_split/mono/mozart/test.txt\n"
     ]
    },
    {
     "data": {
      "application/vnd.jupyter.widget-view+json": {
       "model_id": "f3ffedc6936f40f8a30b4ea5305e884d"
      }
     },
     "metadata": {},
     "output_type": "display_data"
    },
    {
     "name": "stderr",
     "output_type": "stream",
     "text": [
      "INFO:root:Reloaded TrainingRun #65\n"
     ]
    },
    {
     "name": "stdout",
     "output_type": "stream",
     "text": [
      "\n",
      "Processing  mozart ...\n",
      "\tProcessing  holdout\n",
      "\tProcessing  split\n",
      "278\r"
     ]
    }
   ],
   "source": [
    "\n",
    "# TYPE = [mono, poly, poly_dur]\n",
    "TYPE='mono'\n",
    "print 'TYPE ', TYPE\n",
    "\n",
    "# create map of the composer checkpoints\n",
    "# composer = {'bach':63, 'beethoven':62, 'handel':64, 'mozart':65}\n",
    "composer={'brahms':28}\n",
    "\n",
    "for key in composer:\n",
    "    # set checkpoint\n",
    "    EDIT_RUN=composer[key]\n",
    "    \n",
    "    # create an experiment from saved checkpoint\n",
    "    exp = experiments.get(EDIT_RUN)\n",
    "    editor = exp.editor\n",
    "    print 'Processing ', key, '...'\n",
    "\n",
    "    # for both test data sets: holdout and split\n",
    "    test=['holdout', 'split']\n",
    "    for t in test:\n",
    "        print '\\t'+'Processing ', t\n",
    "        path = key+'_'+TYPE+'_'+t+'.txt'\n",
    "        \n",
    "        # split into seqlen=20\n",
    "        new_path = parse(path, key, TYPE, t)\n",
    "        # path of results file\n",
    "        write_path = key+'_'+TYPE+'_'+t+'_results'+'.txt'\n",
    "        \n",
    "        # generate results per line and write to file\n",
    "        with open(write_path, 'w') as wp:\n",
    "            with open(new_path) as f:\n",
    "                count = 0\n",
    "                for line in f.readlines():\n",
    "                    \n",
    "                    # print current line being processed\n",
    "                    count += 1\n",
    "                    print '{0}\\r'.format(count),\n",
    "                    \n",
    "                    # submit example to edit\n",
    "                    ex = EditExample(line.split(), [], [], [], [], line.split())\n",
    "                    output_words_batch, edit_traces = editor.edit([ex], beam_size=8)\n",
    "\n",
    "                    # get ALL candidate results\n",
    "                    x=edit_traces[0].decoder_trace.candidates\n",
    "\n",
    "                    # convert candidates to midi-readable format\n",
    "                    # ie. 'd4 f5 e4 d5 d5 g4 f5 e4 f5 e5 d5 e5 d5 e5 d5 d5 g4 a4 f5 g4 b-5'\n",
    "                    x=[str(cand)[7:] for cand in x]\n",
    "\n",
    "                    # choose random candidate of max length\n",
    "                    max_len=len(max(x, key=len))\n",
    "                    y=x[random.randint(0, len([i for i in x if len(i)==max_len]))-1]\n",
    "\n",
    "                    # write to file as a line\n",
    "                    wp.write(y+'\\n')\n",
    "            wp.close()\n",
    "            f.close()"
   ]
  },
  {
   "cell_type": "code",
   "execution_count": 15,
   "metadata": {},
   "outputs": [
    {
     "name": "stdout",
     "output_type": "stream",
     "text": [
      "Is this a music sample? (true/false):\n",
      "true\n",
      "Enter a source sentence:\n",
      "D2 G1 A1 B1 C2 D2 G1 G1 E2 C2 D2 E2 F#2 G2\n",
      "Enter whitelist (OK to leave empty):\n",
      "\n",
      "Enter blacklist (OK to leave empty):\n",
      "\n",
      "Enter target sentence (OK to leave empty):\n",
      "\n",
      "SOURCE: D2 G1 A1 B1 C2 D2 G1 G1 E2 C2 D2 E2 F#2 G2\n"
     ]
    }
   ],
   "source": [
    "editor = exp.editor\n",
    "\n",
    "ex = EditExample.from_prompt()\n",
    "print(ex)\n",
    "\n",
    "# Bach Minuet: D2 G1 A1 B1 C2 D2 G1 G1 E2 C2 D2 E2 F#2 G2\n",
    "# Mozart Sonata: B4 A4 G#4 A4 C5 D5 C5 B4 C5 E5 F4 E4 D#4 E4 B5 A5 G#5 A5 B5 A5 G#5"
   ]
  },
  {
   "cell_type": "code",
   "execution_count": 16,
   "metadata": {},
   "outputs": [
    {
     "name": "stdout",
     "output_type": "stream",
     "text": [
      "[SOURCE: D2 G1 A1 B1 C2 D2 G1 G1 E2 C2 D2 E2 F#2 G2\n",
      "(0.00) d2 g1 a1 b1 c2 d2 g1 e2 g1 e2 g1 e2\n",
      "(0.00) d2 g1 a1 b1 c2 d2 g1 e2 g1 e2 e1 e2 e2 e2 g1 e2 c2 d2 e2 g2\n",
      "(0.00) d2 g1 a1 b1 c2 d2 g1 b3 c2 c2 b1 c2 c2 c2 g1 e2 c2 d2 e2 g2\n",
      "(0.00) d2 g1 a1 b1 c2 d2 g1 b3 c2 b1 c2 c2 c2 c2 g1 e2 c2 d2 e2 g2\n",
      "(0.00) d2 g1 a1 b1 c2 d2 g1 b3 c2 b1 c2 c2 b1 c2 g1 e2 c2 d2 e2 g2]\n"
     ]
    }
   ],
   "source": [
    "output_words_batch, edit_traces = editor.edit([ex], beam_size=8)\n",
    "print(edit_traces)"
   ]
  },
  {
   "cell_type": "code",
   "execution_count": null,
   "metadata": {
    "collapsed": true
   },
   "outputs": [],
   "source": []
  }
 ],
 "metadata": {
  "kernelspec": {
   "display_name": "Python 2",
   "language": "python",
   "name": "python2"
  },
  "language_info": {
   "codemirror_mode": {
    "name": "ipython",
    "version": 2
   },
   "file_extension": ".py",
   "mimetype": "text/x-python",
   "name": "python",
   "nbconvert_exporter": "python",
   "pygments_lexer": "ipython2",
   "version": "2.7.11"
  }
 },
 "nbformat": 4,
 "nbformat_minor": 2
}
