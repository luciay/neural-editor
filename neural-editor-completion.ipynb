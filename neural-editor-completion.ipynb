{
 "cells": [
  {
   "cell_type": "code",
   "execution_count": 1,
   "metadata": {},
   "outputs": [
    {
     "name": "stdout",
     "output_type": "stream",
     "text": [
      "Reloaded checkpoint #25600\n"
     ]
    },
    {
     "data": {
      "application/vnd.jupyter.widget-view+json": {
       "model_id": "a1b42526e052417d849fbe9164ce5ebe"
      }
     },
     "metadata": {},
     "output_type": "display_data"
    },
    {
     "name": "stdout",
     "output_type": "stream",
     "text": [
      "\n",
      "[localhost] local: wc -l /scratch/ly571/neural-editor-data/midi_split/bach/train.txt\n"
     ]
    },
    {
     "data": {
      "application/vnd.jupyter.widget-view+json": {
       "model_id": "a82f1879800448d1b85d3633ea9fb5f5"
      }
     },
     "metadata": {},
     "output_type": "display_data"
    },
    {
     "name": "stdout",
     "output_type": "stream",
     "text": [
      "\n",
      "[localhost] local: wc -l /scratch/ly571/neural-editor-data/midi_split/bach/valid.txt\n"
     ]
    },
    {
     "data": {
      "application/vnd.jupyter.widget-view+json": {
       "model_id": "28a2d8f1f02545f29a5e09fefb3ff3a0"
      }
     },
     "metadata": {},
     "output_type": "display_data"
    },
    {
     "name": "stdout",
     "output_type": "stream",
     "text": [
      "\n",
      "[localhost] local: wc -l /scratch/ly571/neural-editor-data/midi_split/bach/test.txt\n"
     ]
    },
    {
     "data": {
      "application/vnd.jupyter.widget-view+json": {
       "model_id": "0b0a28de9d9c47bd8ae4a7ede0b81c7b"
      }
     },
     "metadata": {},
     "output_type": "display_data"
    },
    {
     "name": "stderr",
     "output_type": "stream",
     "text": [
      "INFO:root:Reloaded TrainingRun #34\n"
     ]
    },
    {
     "name": "stdout",
     "output_type": "stream",
     "text": [
      "\n"
     ]
    }
   ],
   "source": [
    "import argparse\n",
    "from gtd.io import save_stdout\n",
    "from gtd.log import set_log_level\n",
    "from gtd.utils import Config\n",
    "from textmorph.edit_model.training_run import EditTrainingRuns\n",
    "\n",
    "from textmorph.edit_model.editor import EditExample\n",
    "set_log_level('DEBUG')\n",
    "\n",
    "from textmorph import data\n",
    "\n",
    "# create experiment\n",
    "experiments = EditTrainingRuns(check_commit=False)\n",
    "\n",
    "# set checkpoints from training run\n",
    "# mozart = 34\n",
    "EDIT_RUN=34\n",
    "\n",
    "\n",
    "# create an experiment from saved checkpoint\n",
    "exp = experiments.get(EDIT_RUN)"
   ]
  },
  {
   "cell_type": "code",
   "execution_count": 3,
   "metadata": {},
   "outputs": [
    {
     "data": {
      "text/plain": [
       "'/scratch/ly571/neural-editor-data/edit_run'"
      ]
     },
     "execution_count": 3,
     "metadata": {},
     "output_type": "execute_result"
    }
   ],
   "source": [
    "data.workspace.edit_run"
   ]
  },
  {
   "cell_type": "code",
   "execution_count": 6,
   "metadata": {},
   "outputs": [
    {
     "name": "stdout",
     "output_type": "stream",
     "text": [
      "Enter a source sentence:\n",
      "B-4 B-3 A4 A3 E5 A4 G3\n",
      "Enter whitelist (OK to leave empty):\n",
      "\n",
      "Enter blacklist (OK to leave empty):\n",
      "\n",
      "Enter target sentence (OK to leave empty):\n",
      "\n",
      "SOURCE: B-4 B-3 A4 A3 E5 A4 G3\n"
     ]
    }
   ],
   "source": [
    "editor = exp.editor\n",
    "\n",
    "ex = EditExample.from_prompt()\n",
    "print(ex)"
   ]
  },
  {
   "cell_type": "code",
   "execution_count": 7,
   "metadata": {},
   "outputs": [
    {
     "name": "stdout",
     "output_type": "stream",
     "text": [
      "[SOURCE: B-4 B-3 A4 A3 E5 A4 G3\n",
      "(0.00) b-4 b-4 d4 a3 a4 e4 a3 e5 d5 a4 g3 a4 g3 d5 a4 a4 a4\n",
      "(0.00) b-4 b-4 d4 a3 a4 e4 a3 e5 a4 a4 g3 a4 g3 d5 a4 a4 a4\n",
      "(0.00) b-4 b-4 d4 a3 a4 e4 a3 e5 d5 a4 g3 a4 g3 a4 a4 a4 a4\n",
      "(0.00) b-4 b-4 d4 a3 a4 e4 a3 e5 d5 a4 g3 a4 g3 b-4 a4 a4 a4\n",
      "(0.00) b-4 b-4 d4 a3 a4 e4 a3 e5 d5 a4 g3 a4 g3 d5 a4 b-4 a4]\n"
     ]
    }
   ],
   "source": [
    "output_words_batch, edit_traces = editor.edit([ex], beam_size=8)\n",
    "print(edit_traces)"
   ]
  },
  {
   "cell_type": "code",
   "execution_count": null,
   "metadata": {
    "collapsed": true
   },
   "outputs": [],
   "source": []
  }
 ],
 "metadata": {
  "kernelspec": {
   "display_name": "Python 2",
   "language": "python",
   "name": "python2"
  },
  "language_info": {
   "codemirror_mode": {
    "name": "ipython",
    "version": 2
   },
   "file_extension": ".py",
   "mimetype": "text/x-python",
   "name": "python",
   "nbconvert_exporter": "python",
   "pygments_lexer": "ipython2",
   "version": "2.7.11"
  }
 },
 "nbformat": 4,
 "nbformat_minor": 2
}
