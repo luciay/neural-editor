{
 "cells": [
  {
   "cell_type": "code",
   "execution_count": null,
   "metadata": {},
   "outputs": [],
   "source": [
    "%%bash\n",
    "python -m nltk.downloader punkt"
   ]
  },
  {
   "cell_type": "code",
   "execution_count": 2,
   "metadata": {},
   "outputs": [],
   "source": [
    "import argparse\n",
    "\n",
    "from gtd.io import save_stdout\n",
    "from gtd.log import set_log_level\n",
    "from gtd.utils import Config\n",
    "from textmorph.edit_model.training_run import EditTrainingRuns\n",
    "\n",
    "set_log_level('DEBUG')\n",
    "\n",
    "from textmorph import data"
   ]
  },
  {
   "cell_type": "code",
   "execution_count": 14,
   "metadata": {},
   "outputs": [
    {
     "name": "stdout",
     "output_type": "stream",
     "text": [
      "checkpoints_dir  /home/ly571/neural-editor-data/edit_runs/33/checkpoints\n",
      "Reloaded checkpoint #80000\n"
     ]
    },
    {
     "data": {
      "application/vnd.jupyter.widget-view+json": {
       "model_id": "7c9e1eb0ab4f46598e9174f8b398b31f"
      }
     },
     "metadata": {},
     "output_type": "display_data"
    },
    {
     "name": "stdout",
     "output_type": "stream",
     "text": [
      "[localhost] local: wc -l /home/ly571/neural-editor-data/onebillion_split/train.tsv\n"
     ]
    },
    {
     "data": {
      "application/vnd.jupyter.widget-view+json": {
       "model_id": "99b02ac9a08744bc98f4e96795a8522b"
      }
     },
     "metadata": {},
     "output_type": "display_data"
    },
    {
     "name": "stdout",
     "output_type": "stream",
     "text": [
      "1894493/|/ 54%|| 1894493/3506331 [01:24<01:12, 22331.11it/s]\n",
      "3171478/|/ 90%|| 3171478/3506331 [01:49<00:11, 28893.99it/s][localhost] local: wc -l /home/ly571/neural-editor-data/onebillion_split/valid.tsv\n"
     ]
    },
    {
     "data": {
      "application/vnd.jupyter.widget-view+json": {
       "model_id": "16d7d0f75ac148fa90d4837942509c99"
      }
     },
     "metadata": {},
     "output_type": "display_data"
    },
    {
     "name": "stdout",
     "output_type": "stream",
     "text": [
      "\n",
      "[localhost] local: wc -l /home/ly571/neural-editor-data/onebillion_split/test.tsv\n"
     ]
    },
    {
     "data": {
      "application/vnd.jupyter.widget-view+json": {
       "model_id": "96231a0ff8814a30af6e71d1e841b229"
      }
     },
     "metadata": {},
     "output_type": "display_data"
    },
    {
     "name": "stderr",
     "output_type": "stream",
     "text": [
      "INFO:root:Reloaded TrainingRun #33\n"
     ]
    },
    {
     "name": "stdout",
     "output_type": "stream",
     "text": [
      "\n"
     ]
    }
   ],
   "source": [
    "# create experiment\n",
    "experiments = EditTrainingRuns(check_commit=False)\n",
    "\n",
    "# get checkpoints from training run\n",
    "# TODO: get training runs for multiple epochs\n",
    "YELP = 34 # about one epoch\n",
    "GOOGLE = 33 # about one epoch\n",
    "\n",
    "exp = experiments.get(GOOGLE)"
   ]
  },
  {
   "cell_type": "code",
   "execution_count": 15,
   "metadata": {},
   "outputs": [],
   "source": [
    "editor = exp.editor"
   ]
  },
  {
   "cell_type": "code",
   "execution_count": 34,
   "metadata": {},
   "outputs": [
    {
     "name": "stdout",
     "output_type": "stream",
     "text": [
      "Enter a source sentence:\n",
      "The White House says it is continuing to assess intelligence and talk to its allies about how to respond.\n",
      "Enter whitelist (OK to leave empty):\n",
      "\n",
      "Enter blacklist (OK to leave empty):\n",
      "intelligence\n",
      "Enter target sentence (OK to leave empty):\n",
      "The White House is deliberating their policy agenda\n",
      "SOURCE: The White House says it is continuing to assess intelligence and talk to its allies about how to respond .\n",
      "DELETE EXACT: [u'intelligence']\n",
      "TARGET: The White House is deliberating their policy agenda\n"
     ]
    }
   ],
   "source": [
    "from textmorph.edit_model.editor import EditExample\n",
    "\n",
    "ex = EditExample.from_prompt()\n",
    "print(ex)"
   ]
  },
  {
   "cell_type": "code",
   "execution_count": 35,
   "metadata": {},
   "outputs": [
    {
     "name": "stdout",
     "output_type": "stream",
     "text": [
      "[[[u'the', u'white', u'house', u'says', u'it', u'is', u'continuing', u'to', u'assess', u'intelligence', u'and', u'talk', u'to', u'its', u'allies', u'about', u'how', u'to', u'respond', u'.'], [u'the', u'white', u'house', u'said', u'it', u'is', u'continuing', u'to', u'assess', u'intelligence', u'and', u'talk', u'to', u'its', u'allies', u'about', u'how', u'to', u'respond', u'.'], [u'the', u'white', u'house', u'says', u'it', u'is', u'continuing', u'to', u'assess', u'intelligence', u'and', u'talk', u'to', u'its', u'allies', u'.'], [u'<org>', u'says', u'it', u'is', u'continuing', u'to', u'assess', u'intelligence', u'and', u'talk', u'to', u'its', u'allies', u'about', u'how', u'to', u'respond', u'.'], [u'the', u'white', u'house', u'said', u'<date>', u'it', u'is', u'continuing', u'to', u'assess', u'intelligence', u'and', u'talk', u'to', u'its', u'allies', u'about', u'how', u'to', u'respond', u'.'], [u'the', u'white', u'house', u'said', u'<date>', u'that', u'it', u'is', u'continuing', u'to', u'assess', u'intelligence', u'and', u'talk', u'to', u'its', u'allies', u'about', u'how', u'to', u'respond', u'.'], [u'the', u'white', u'house', u'said', u'<date>', u'that', u'it', u'is', u'continuing', u'to', u'assess', u'intelligence', u'and', u'talk', u'to', u'its', u'allies', u'about', u'how', u'to', u'respond', u'to', u'the', u'economy', u'.'], [u'the', u'white', u'house', u'said', u'<date>', u'that', u'it', u'is', u'continuing', u'to', u'assess', u'intelligence', u'and', u'talk', u'to', u'its', u'allies', u'about', u'how', u'to', u'respond', u'to', u'the', u'<unk>', u'.']]]\n"
     ]
    }
   ],
   "source": [
    "output_words_batch, edit_traces = editor.edit([ex], beam_size=8)\n",
    "print(output_words_batch)"
   ]
  },
  {
   "cell_type": "code",
   "execution_count": 36,
   "metadata": {},
   "outputs": [
    {
     "name": "stdout",
     "output_type": "stream",
     "text": [
      "[SOURCE: The White House says it is continuing to assess intelligence and talk to its allies about how to respond .\n",
      "DELETE EXACT: [u'intelligence']\n",
      "TARGET: The White House is deliberating their policy agenda\n",
      "(0.05) the white house says it is continuing to assess intelligence and talk to its allies about how to respond .\n",
      "(0.01) the white house said it is continuing to assess intelligence and talk to its allies about how to respond .\n",
      "(0.01) the white house says it is continuing to assess intelligence and talk to its allies .\n",
      "(0.00) <org> says it is continuing to assess intelligence and talk to its allies about how to respond .\n",
      "(0.00) the white house said <date> it is continuing to assess intelligence and talk to its allies about how to respond .]\n"
     ]
    }
   ],
   "source": [
    "print(edit_traces)"
   ]
  },
  {
   "cell_type": "code",
   "execution_count": null,
   "metadata": {
    "collapsed": true
   },
   "outputs": [],
   "source": []
  }
 ],
 "metadata": {
  "kernelspec": {
   "display_name": "Python 2",
   "language": "python",
   "name": "python2"
  },
  "language_info": {
   "codemirror_mode": {
    "name": "ipython",
    "version": 2
   },
   "file_extension": ".py",
   "mimetype": "text/x-python",
   "name": "python",
   "nbconvert_exporter": "python",
   "pygments_lexer": "ipython2",
   "version": "2.7.11"
  }
 },
 "nbformat": 4,
 "nbformat_minor": 2
}
