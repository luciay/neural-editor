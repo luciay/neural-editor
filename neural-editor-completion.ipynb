{
 "cells": [
  {
   "cell_type": "code",
   "execution_count": 35,
   "metadata": {},
   "outputs": [
    {
     "name": "stdout",
     "output_type": "stream",
     "text": [
      "Reloaded checkpoint #70000\n"
     ]
    },
    {
     "data": {
      "application/vnd.jupyter.widget-view+json": {
       "model_id": "e99977585a5f47a080504c91bfb80804"
      }
     },
     "metadata": {},
     "output_type": "display_data"
    },
    {
     "name": "stdout",
     "output_type": "stream",
     "text": [
      "\n",
      "[localhost] local: wc -l /scratch/ly571/neural-editor-data/midi_split/bach/train.txt\n"
     ]
    },
    {
     "data": {
      "application/vnd.jupyter.widget-view+json": {
       "model_id": "0af874d42e1044d4b3eb731793be0537"
      }
     },
     "metadata": {},
     "output_type": "display_data"
    },
    {
     "name": "stdout",
     "output_type": "stream",
     "text": [
      "\n",
      "[localhost] local: wc -l /scratch/ly571/neural-editor-data/midi_split/bach/valid.txt\n"
     ]
    },
    {
     "data": {
      "application/vnd.jupyter.widget-view+json": {
       "model_id": "a414e130eaa5431fa5fcbcb4dd129f24"
      }
     },
     "metadata": {},
     "output_type": "display_data"
    },
    {
     "name": "stdout",
     "output_type": "stream",
     "text": [
      "\n",
      "[localhost] local: wc -l /scratch/ly571/neural-editor-data/midi_split/bach/test.txt\n"
     ]
    },
    {
     "data": {
      "application/vnd.jupyter.widget-view+json": {
       "model_id": "af5b65294e62447dba7035f526e93ab2"
      }
     },
     "metadata": {},
     "output_type": "display_data"
    },
    {
     "name": "stderr",
     "output_type": "stream",
     "text": [
      "INFO:root:Reloaded TrainingRun #36\n"
     ]
    },
    {
     "name": "stdout",
     "output_type": "stream",
     "text": [
      "\n"
     ]
    }
   ],
   "source": [
    "import argparse\n",
    "from gtd.io import save_stdout\n",
    "from gtd.log import set_log_level\n",
    "from gtd.utils import Config\n",
    "from textmorph.edit_model.training_run import EditTrainingRuns\n",
    "\n",
    "from textmorph.edit_model.editor import EditExample\n",
    "set_log_level('DEBUG')\n",
    "\n",
    "from textmorph import data\n",
    "\n",
    "# create experiment\n",
    "experiments = EditTrainingRuns(check_commit=False)\n",
    "\n",
    "# set checkpoints from training run\n",
    "# mozart = 34\n",
    "# bach = 36\n",
    "# mizart = 37\n",
    "# beethoven = 38\n",
    "# handel = 39\n",
    "EDIT_RUN=36\n",
    "\n",
    "\n",
    "# create an experiment from saved checkpoint\n",
    "exp = experiments.get(EDIT_RUN)"
   ]
  },
  {
   "cell_type": "code",
   "execution_count": 36,
   "metadata": {},
   "outputs": [
    {
     "data": {
      "text/plain": [
       "'/scratch/ly571/neural-editor-data/edit_run'"
      ]
     },
     "execution_count": 36,
     "metadata": {},
     "output_type": "execute_result"
    }
   ],
   "source": [
    "data.workspace.edit_run"
   ]
  },
  {
   "cell_type": "code",
   "execution_count": 38,
   "metadata": {},
   "outputs": [
    {
     "name": "stdout",
     "output_type": "stream",
     "text": [
      "Is this a music sample? (true/false):\n",
      "true\n",
      "Enter a source sentence:\n",
      "D2 G1 A1 B1 C2 D2 G1 G1 E2 C2 D2 E2 F#2 G2\n",
      "Enter whitelist (OK to leave empty):\n",
      "\n",
      "Enter blacklist (OK to leave empty):\n",
      "\n",
      "Enter target sentence (OK to leave empty):\n",
      "\n",
      "SOURCE: D2 G1 A1 B1 C2 D2 G1 G1 E2 C2 D2 E2 F#2 G2\n"
     ]
    }
   ],
   "source": [
    "editor = exp.editor\n",
    "\n",
    "ex = EditExample.from_prompt()\n",
    "print(ex)\n",
    "\n",
    "# Minuet: D2 G1 A1 B1 C2 D2 G1 G1 E2 C2 D2 E2 F#2 G2\n",
    "# Sonata: B4 A4 G#4 A4 C5 D5 C5 B4 C5 E5 F4 E4 D#4 E4 B5 A5 G#5 A5 B5 A5 G#5"
   ]
  },
  {
   "cell_type": "code",
   "execution_count": 39,
   "metadata": {},
   "outputs": [
    {
     "name": "stdout",
     "output_type": "stream",
     "text": [
      "[SOURCE: D2 G1 A1 B1 C2 D2 G1 G1 E2 C2 D2 E2 F#2 G2\n",
      "(0.01) d2 g1 a1 b1 c2 d2 g1 g1 e2 g1 c2 d2 e2 f#2 g2\n",
      "(0.00) d2 g1 a1 b1 c2 d2 g1 g1 e2 g1 c2 d2 e2 f#2 g2 d2 d2 d2 d2 d2\n",
      "(0.00) d2 g1 a1 b1 c2 d2 g1 g1 e2 g1 c2 d2 e2 f#2 g2 g1 g2 g1 g1 g1\n",
      "(0.00) d2 g1 a1 b1 c2 d2 g1 g1 e2 g1 c2 d2 e2 f#2 g2 g1 g2 g1 g2 g1\n",
      "(0.00) d2 g1 a1 b1 c2 d2 g1 g1 e2 g1 c2 d2 e2 f#2 g2 g1 g2 g1 e2 g1]\n"
     ]
    }
   ],
   "source": [
    "output_words_batch, edit_traces = editor.edit([ex], beam_size=8)\n",
    "print(edit_traces)"
   ]
  },
  {
   "cell_type": "code",
   "execution_count": null,
   "metadata": {
    "collapsed": true
   },
   "outputs": [],
   "source": []
  }
 ],
 "metadata": {
  "kernelspec": {
   "display_name": "Python 2",
   "language": "python",
   "name": "python2"
  },
  "language_info": {
   "codemirror_mode": {
    "name": "ipython",
    "version": 2
   },
   "file_extension": ".py",
   "mimetype": "text/x-python",
   "name": "python",
   "nbconvert_exporter": "python",
   "pygments_lexer": "ipython2",
   "version": "2.7.11"
  }
 },
 "nbformat": 4,
 "nbformat_minor": 2
}
